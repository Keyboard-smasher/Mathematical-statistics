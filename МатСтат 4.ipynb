{
 "cells": [
  {
   "cell_type": "code",
   "execution_count": 57,
   "metadata": {},
   "outputs": [],
   "source": [
    "from matplotlib import pyplot\n",
    "import numpy as np\n",
    "import seaborn as sns"
   ]
  },
  {
   "cell_type": "code",
   "execution_count": 58,
   "metadata": {},
   "outputs": [],
   "source": [
    "def find_gauss_broder(beta, step = 0.01):\n",
    "    nado = 1/((np.pi*2)**0.5)\n",
    "    sum = 0\n",
    "    x = 0\n",
    "    def plotnost(x):\n",
    "        return nado * np.exp((-x**2) / 2)\n",
    "    while sum < beta/2 :\n",
    "        sum += plotnost(x) * step\n",
    "        x += step\n",
    "    return x, -x"
   ]
  },
  {
   "cell_type": "code",
   "execution_count": 69,
   "metadata": {},
   "outputs": [],
   "source": [
    "n = 100\n",
    "theta = 250\n",
    "beta = 0.95\n",
    "f1, f2 = np.zeros(4, dtype = np.float64), np.zeros(4, dtype = np.float64)"
   ]
  },
  {
   "cell_type": "code",
   "execution_count": 70,
   "metadata": {},
   "outputs": [],
   "source": [
    "x = np.random.randint(theta, 2*theta, size = n)"
   ]
  },
  {
   "cell_type": "markdown",
   "metadata": {},
   "source": [
    "# Точный\n"
   ]
  },
  {
   "cell_type": "code",
   "execution_count": 71,
   "metadata": {},
   "outputs": [
    {
     "name": "stdout",
     "output_type": "stream",
     "text": [
      "249.0315206707721  < ϴ <  253.59213419060777\n"
     ]
    }
   ],
   "source": [
    "xmax = np.max(x)\n",
    "f1[0] = xmax / (1 + (1/2 + beta/2)**(1/n))\n",
    "f2[0] = xmax / (1 + (1/2 - beta/2)**(1/n))\n",
    "\n",
    "print(f1[0], \" < \\u03F4 < \", f2[0])\n"
   ]
  },
  {
   "cell_type": "markdown",
   "metadata": {},
   "source": [
    "# Ассимптотический"
   ]
  },
  {
   "cell_type": "markdown",
   "metadata": {},
   "source": [
    "### ОММ"
   ]
  },
  {
   "cell_type": "code",
   "execution_count": 72,
   "metadata": {
    "scrolled": true
   },
   "outputs": [
    {
     "name": "stdout",
     "output_type": "stream",
     "text": [
      "245.0813344395071  < ϴ <  263.3053322271596\n"
     ]
    }
   ],
   "source": [
    "e1, e2 = find_gauss_broder(0.95, step = 0.001)\n",
    "a1 = np.mean(x)\n",
    "mark = a1*2/3\n",
    "\n",
    "a2 = 0\n",
    "for i in range (0, n):\n",
    "    a2 += 1/n*(x[i])**2\n",
    "    \n",
    "const = (4/9 * (a2 - a1**2))**0.5 / n**0.5\n",
    "\n",
    "f1[1] = mark - e1 * const\n",
    "f2[1] = mark - e2 * const\n",
    "\n",
    "\n",
    "print(f1[1], \" < \\u03F4 < \", f2[1])"
   ]
  },
  {
   "cell_type": "markdown",
   "metadata": {},
   "source": [
    "### ОМП"
   ]
  },
  {
   "cell_type": "code",
   "execution_count": 73,
   "metadata": {},
   "outputs": [
    {
     "name": "stdout",
     "output_type": "stream",
     "text": [
      "200.24580000000262  < ϴ <  297.7541999999974\n"
     ]
    }
   ],
   "source": [
    "e1, e2 = find_gauss_broder(0.95, step = 0.001)\n",
    "mark = np.max(x) / 2\n",
    "\n",
    "f1[2] = mark*(1-e1/n**0.5)\n",
    "f2[2] = mark*(1-e2/n**0.5)\n",
    "\n",
    "print(f1[2], \" < \\u03F4 < \", f2[2])"
   ]
  },
  {
   "cell_type": "markdown",
   "metadata": {},
   "source": [
    "# Bootstrap"
   ]
  },
  {
   "cell_type": "code",
   "execution_count": 77,
   "metadata": {},
   "outputs": [
    {
     "name": "stdout",
     "output_type": "stream",
     "text": [
      "234.53333333333336  < ϴ <  253.14\n"
     ]
    }
   ],
   "source": [
    "thts = []\n",
    "weird_theta = np.max(x)/2\n",
    "for s in range (0, 1000):\n",
    "    i = np.random.randint(0, n, n)\n",
    "    xi = []\n",
    "    for j in i:\n",
    "        xi.append(x[j])\n",
    "\n",
    "    thts.append(weird_theta - 2/3*np.mean(xi))\n",
    "thts.sort()\n",
    "\n",
    "f1[3] = thts[int((1/2-beta/2)*1000)] + weird_theta\n",
    "f2[3] = thts[int((1/2 + beta/2)*1000)] + weird_theta\n",
    "print(f1[3], \" < \\u03F4 < \", f2[3])"
   ]
  },
  {
   "cell_type": "code",
   "execution_count": 79,
   "metadata": {},
   "outputs": [
    {
     "data": {
      "image/png": "[encoded data removed]",
      "text/plain": [
       "<Figure size 432x288 with 1 Axes>"
      ]
     },
     "metadata": {
      "needs_background": "light"
     },
     "output_type": "display_data"
    }
   ],
   "source": [
    "pyplot.plot([f1[0], f2[0]], [3, 3], label = \"Точный\")\n",
    "pyplot.plot([f1[1], f2[1]], [2, 2], label = \"ОММ\")\n",
    "pyplot.plot([f1[2], f2[2]], [1, 1], label = \"ОМП\")\n",
    "pyplot.plot([f1[3], f2[3]], [0, 0], label = \"Bootstrap\")\n",
    "pyplot.plot([theta, theta], [0, 3], color = \"black\", label = \"Тета\")\n",
    "\n",
    "pyplot.legend()\n",
    "pyplot.show()"
   ]
  },
  {
   "cell_type": "markdown",
   "metadata": {},
   "source": [
    "Точный интервал самый точный, bootstrap и ассимптотический доверительные интервалы примерно одинаковы, а из-за того, что модель не регулярна, ОМП работает не точно"
   ]
  }
 ],
 "metadata": {
  "kernelspec": {
   "display_name": "Python 3",
   "language": "python",
   "name": "python3"
  },
  "language_info": {
   "codemirror_mode": {
    "name": "ipython",
    "version": 3
   },
   "file_extension": ".py",
   "mimetype": "text/x-python",
   "name": "python",
   "nbconvert_exporter": "python",
   "pygments_lexer": "ipython3",
   "version": "3.9.0"
  }
 },
 "nbformat": 4,
 "nbformat_minor": 4
}
