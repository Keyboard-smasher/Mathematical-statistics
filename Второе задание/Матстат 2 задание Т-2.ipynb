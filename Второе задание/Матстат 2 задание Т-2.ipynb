{
 "cells": [
  {
   "cell_type": "code",
   "execution_count": 34,
   "metadata": {},
   "outputs": [],
   "source": [
    "import numpy as np\n",
    "import scipy\n",
    "from matplotlib import pyplot\n",
    "from scipy import integrate"
   ]
  },
  {
   "cell_type": "code",
   "execution_count": 40,
   "metadata": {},
   "outputs": [],
   "source": [
    "alpha = 0.05\n",
    "\n",
    "Ig = np.array([83, 85,\n",
    "               84, 85, 85, 86, 86, 87,\n",
    "               86, 87, 87, 87, 88, 88, 88, 88, 88, 89, 90,\n",
    "               89, 90, 90, 91,\n",
    "               90, 92])\n",
    "Group = [1, 1,\n",
    "         2, 2, 2, 2, 2, 2, \n",
    "         3, 3, 3, 3, 3, 3, 3, 3, 3, 3, 3, \n",
    "         4, 4, 4, 4,\n",
    "         5, 5]\n",
    "\n",
    "Psi = np.zeros(len(Group) * 5).reshape(len(Group), 5)\n",
    "for i in range(len(Group)):\n",
    "    Psi[i][Group[i]-1] = 1 "
   ]
  },
  {
   "cell_type": "markdown",
   "metadata": {},
   "source": [
    "# a) Влияние возраста"
   ]
  },
  {
   "cell_type": "markdown",
   "metadata": {},
   "source": [
    "## Уравнение регрессии"
   ]
  },
  {
   "cell_type": "code",
   "execution_count": 70,
   "metadata": {},
   "outputs": [],
   "source": [
    "def linear_regression(eta, Psi, n, p):\n",
    "    F = np.dot(Psi.T, Psi)\n",
    "    F_inv = np.linalg.inv(F)\n",
    "    beta = np.dot(np.dot(F_inv, Psi.T), eta)\n",
    "    \n",
    "    e = eta - np.dot(Psi, beta.T)\n",
    "    RSS = np.dot(e.T, e)\n",
    "    mean = np.mean(eta)\n",
    "    TSS = np.sum([(etai - mean)**2 for etai in eta])\n",
    "    R_2 = 1 - RSS/TSS\n",
    "    delta_r = R_2 * TSS / RSS * (n-p) / (p-1)\n",
    "    \n",
    "    delta = []\n",
    "    for i in range(0, 5):\n",
    "        delta.append(beta[i]*((n-p)**0.5)/(RSS * F_inv[i, i])**0.5)\n",
    "\n",
    "    return beta, delta_r, delta, R_2, F_inv, RSS"
   ]
  },
  {
   "cell_type": "code",
   "execution_count": 77,
   "metadata": {},
   "outputs": [],
   "source": [
    "def possibility(delta, N, p, counter):\n",
    "    n = N - p\n",
    "    I = integrate.quad(lambda x: scipy.special.gamma(n/2 + 1/2) / (n*np.pi)**0.5 / scipy.special.gamma(n/2) / (1 + x*x/n)**(n/2+1/2), delta, np.inf)\n",
    "    p_val = 2*I[0]\n",
    "    print(\"p-value =\", p_val)\n",
    "    if p_val > alpha:\n",
    "        print(\"β\", counter, \"не значима\")\n",
    "    else:\n",
    "        print(\"β\", counter, \"значима\")\n",
    "    print()"
   ]
  },
  {
   "cell_type": "code",
   "execution_count": 78,
   "metadata": {},
   "outputs": [
    {
     "name": "stdout",
     "output_type": "stream",
     "text": [
      "Было: η = [84.  85.5 87.8 90.  91. ] * (I II III IV V)\n"
     ]
    }
   ],
   "source": [
    "beta, delta_R, delta, R_2, F_inv, RSS = linear_regression(Ig, Psi, len(Ig), 5)\n",
    "print(\"Было: η =\", np.round(beta, 1), \"*\", \"(I II III IV V)\")"
   ]
  },
  {
   "cell_type": "markdown",
   "metadata": {},
   "source": [
    "## Значимость коэффициентов"
   ]
  },
  {
   "cell_type": "code",
   "execution_count": 79,
   "metadata": {},
   "outputs": [
    {
     "name": "stdout",
     "output_type": "stream",
     "text": [
      "p-value = 2.4341091408717638e-29\n",
      "β 1 значима\n",
      "\n",
      "p-value = 2.921887806517796e-34\n",
      "β 2 значима\n",
      "\n",
      "p-value = 3.992126809615538e-37\n",
      "β 3 значима\n",
      "\n",
      "p-value = 6.033643921169127e-33\n",
      "β 4 значима\n",
      "\n",
      "p-value = 4.922009905380071e-30\n",
      "β 5 значима\n",
      "\n"
     ]
    }
   ],
   "source": [
    "possibility(np.abs(delta[0]), len(Ig), 5, 1)\n",
    "possibility(np.abs(delta[1]), len(Ig), 5, 2)\n",
    "possibility(np.abs(delta[2]), len(Ig), 5, 3)\n",
    "possibility(np.abs(delta[3]), len(Ig), 5, 4)\n",
    "possibility(np.abs(delta[4]), len(Ig), 5, 5)"
   ]
  },
  {
   "cell_type": "markdown",
   "metadata": {},
   "source": [
    "## Значимость регрессии"
   ]
  },
  {
   "cell_type": "code",
   "execution_count": 80,
   "metadata": {},
   "outputs": [
    {
     "name": "stdout",
     "output_type": "stream",
     "text": [
      "R^2 = 0.8106060606060606\n",
      "p-value = 5.407410946440219e-07\n",
      "Регрессия значима\n"
     ]
    }
   ],
   "source": [
    "print(\"R^2 =\", R_2)\n",
    "d1 = 5-1\n",
    "d2 = len(Ig)-5\n",
    "p_value = integrate.quad(lambda x: ((d1*x)**d1 * d2**d2 / (d1*x + d2)**(d1+d2))**0.5 / (x * scipy.special.beta(d1/2, d2/2)), delta_R, np.inf)[0]\n",
    "print(\"p-value =\", p_value)\n",
    "if p_value > alpha/2 and p_value < 1-alpha/2:\n",
    "    print(\"Регрессия не значима\")\n",
    "else:\n",
    "    print(\"Регрессия значима\")"
   ]
  },
  {
   "cell_type": "markdown",
   "metadata": {},
   "source": [
    "# b) Попарное сравнение средних в рамках регрессионной модели"
   ]
  },
  {
   "cell_type": "code",
   "execution_count": 89,
   "metadata": {},
   "outputs": [],
   "source": [
    "def possibility_pair(delta, N, p, c1, c2):\n",
    "    n = N - p\n",
    "    I = integrate.quad(lambda x: scipy.special.gamma(n/2 + 1/2) / (n*np.pi)**0.5 / scipy.special.gamma(n/2) / (1 + x*x/n)**(n/2+1/2), delta, np.inf)\n",
    "    p_val = 2*I[0]\n",
    "    print(\"p-value =\", round(p_val, 8))\n",
    "    if p_val > alpha:\n",
    "        print(\"β\", c1, \" и \", \"β\", c2, \" одинаковы\")\n",
    "    else:\n",
    "        print(\"β\", c1, \" и \", \"β\", c2, \" не одинаковы\")\n",
    "    print()\n",
    "    "
   ]
  },
  {
   "cell_type": "code",
   "execution_count": 90,
   "metadata": {},
   "outputs": [
    {
     "name": "stdout",
     "output_type": "stream",
     "text": [
      "p-value = 0.10310041\n",
      "β 0  и  β 1  одинаковы\n",
      "\n",
      "p-value = 0.0001662\n",
      "β 0  и  β 2  не одинаковы\n",
      "\n",
      "p-value = 2.78e-06\n",
      "β 0  и  β 3  не одинаковы\n",
      "\n",
      "p-value = 2.41e-06\n",
      "β 0  и  β 4  не одинаковы\n",
      "\n",
      "p-value = 0.00039504\n",
      "β 1  и  β 2  не одинаковы\n",
      "\n",
      "p-value = 2.55e-06\n",
      "β 1  и  β 3  не одинаковы\n",
      "\n",
      "p-value = 4.09e-06\n",
      "β 1  и  β 4  не одинаковы\n",
      "\n",
      "p-value = 0.00239334\n",
      "β 2  и  β 3  не одинаковы\n",
      "\n",
      "p-value = 0.00100256\n",
      "β 2  и  β 4  не одинаковы\n",
      "\n",
      "p-value = 0.29579135\n",
      "β 3  и  β 4  одинаковы\n",
      "\n"
     ]
    }
   ],
   "source": [
    "for i in range(0, 5):\n",
    "    for j in range(i+1, 5):\n",
    "        delta_ij = np.abs((beta[i] - beta[j])) / (RSS * (F_inv[i,i] + F_inv[j,j]))**0.5 *(len(Ig) - 5)**0.5\n",
    "        possibility_pair(delta_ij, len(Ig), 5, i, j)"
   ]
  }
 ],
 "metadata": {
  "kernelspec": {
   "display_name": "Python 3",
   "language": "python",
   "name": "python3"
  },
  "language_info": {
   "codemirror_mode": {
    "name": "ipython",
    "version": 3
   },
   "file_extension": ".py",
   "mimetype": "text/x-python",
   "name": "python",
   "nbconvert_exporter": "python",
   "pygments_lexer": "ipython3",
   "version": "3.9.0"
  }
 },
 "nbformat": 4,
 "nbformat_minor": 4
}
