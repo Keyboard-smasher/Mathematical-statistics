{
 "cells": [
  {
   "cell_type": "code",
   "execution_count": 1,
   "metadata": {},
   "outputs": [],
   "source": [
    "import numpy as np\n",
    "from matplotlib import pyplot\n",
    "from scipy import integrate\n",
    "import scipy"
   ]
  },
  {
   "cell_type": "code",
   "execution_count": 232,
   "metadata": {},
   "outputs": [],
   "source": [
    "N = 50\n",
    "alpha = 0.05\n",
    "\n",
    "#Количество проверок\n",
    "c = 8\n",
    "alpha /= 8"
   ]
  },
  {
   "cell_type": "code",
   "execution_count": 27,
   "metadata": {},
   "outputs": [],
   "source": [
    "ksi1 = np.random.random(N)*2 - 1\n",
    "ksi2 = np.random.random(N)*2 - 1\n",
    "ksi3 = np.random.random(N)*2 - 1\n",
    "ksi4 = np.random.random(N)*2 - 1\n",
    "ksi5 = np.random.random(N)*2 - 1\n",
    "\n",
    "center = 3*ksi1 - 2*ksi2 + ksi3 + ksi4 - ksi5 \n",
    "eta = np.random.normal(center, 1.5**2)"
   ]
  },
  {
   "cell_type": "code",
   "execution_count": 233,
   "metadata": {},
   "outputs": [],
   "source": [
    "def linear_regression_ksi(ksi, ksi1, ksi2, ksi3, ksi4, show = False, number = None):\n",
    "    Psi_T = np.array([np.zeros(len(ksi)) + 1,ksi1, ksi2, ksi3, ksi4])\n",
    "    F = np.dot(Psi_T, Psi_T.T)\n",
    "    F_inv = np.linalg.inv(F)\n",
    "    beta = np.dot(np.dot(F_inv, Psi_T), ksi.T)\n",
    "    \n",
    "    e = ksi - np.dot(Psi_T.T, beta.T)\n",
    "    RSS = np.dot(e.T, e)\n",
    "    weird = ksi - np.mean(ksi)\n",
    "    TSS = np.dot(weird, weird)\n",
    "    R_2 = 1 - RSS/TSS\n",
    "    \n",
    "    if show:\n",
    "        print(\"R^2 = \", round(R_2, 3))\n",
    "        if R_2 >= 0.7:\n",
    "            print(\"ξ\", number, \" связана со всеми остальными и ее можно убрать\")\n",
    "        else:\n",
    "            print(\"ξ\", number, \" значима\")"
   ]
  },
  {
   "cell_type": "markdown",
   "metadata": {},
   "source": [
    "# a) Мультиколлинеарность"
   ]
  },
  {
   "cell_type": "markdown",
   "metadata": {},
   "source": [
    "## ξ1"
   ]
  },
  {
   "cell_type": "code",
   "execution_count": 234,
   "metadata": {},
   "outputs": [
    {
     "name": "stdout",
     "output_type": "stream",
     "text": [
      "R^2 =  0.063\n",
      "ξ 1  значима\n"
     ]
    }
   ],
   "source": [
    "linear_regression_ksi(ksi1, ksi2, ksi3, ksi4, ksi5, True, 1)"
   ]
  },
  {
   "cell_type": "markdown",
   "metadata": {},
   "source": [
    "## ξ2"
   ]
  },
  {
   "cell_type": "code",
   "execution_count": 235,
   "metadata": {},
   "outputs": [
    {
     "name": "stdout",
     "output_type": "stream",
     "text": [
      "R^2 =  0.048\n",
      "ξ 2  значима\n"
     ]
    }
   ],
   "source": [
    "linear_regression_ksi(ksi2, ksi1, ksi3, ksi4, ksi5, True, 2)"
   ]
  },
  {
   "cell_type": "markdown",
   "metadata": {},
   "source": [
    "## ξ3"
   ]
  },
  {
   "cell_type": "code",
   "execution_count": 236,
   "metadata": {},
   "outputs": [
    {
     "name": "stdout",
     "output_type": "stream",
     "text": [
      "R^2 =  0.021\n",
      "ξ 3  значима\n"
     ]
    }
   ],
   "source": [
    "linear_regression_ksi(ksi3, ksi2, ksi1, ksi4, ksi5, True, 3)"
   ]
  },
  {
   "cell_type": "markdown",
   "metadata": {},
   "source": [
    "## ξ4"
   ]
  },
  {
   "cell_type": "code",
   "execution_count": 237,
   "metadata": {},
   "outputs": [
    {
     "name": "stdout",
     "output_type": "stream",
     "text": [
      "R^2 =  0.077\n",
      "ξ 4  значима\n"
     ]
    }
   ],
   "source": [
    "linear_regression_ksi(ksi4, ksi2, ksi3, ksi1, ksi5, True, 4)"
   ]
  },
  {
   "cell_type": "markdown",
   "metadata": {},
   "source": [
    "## ξ5"
   ]
  },
  {
   "cell_type": "code",
   "execution_count": 238,
   "metadata": {},
   "outputs": [
    {
     "name": "stdout",
     "output_type": "stream",
     "text": [
      "R^2 =  0.076\n",
      "ξ 5  значима\n"
     ]
    }
   ],
   "source": [
    "linear_regression_ksi(ksi5, ksi2, ksi3, ksi4, ksi1, True, 5)"
   ]
  },
  {
   "cell_type": "markdown",
   "metadata": {},
   "source": [
    "# b) Уравление линейной регрессии и значимость коэффициентов"
   ]
  },
  {
   "cell_type": "code",
   "execution_count": 239,
   "metadata": {},
   "outputs": [],
   "source": [
    "def linear_regression(eta, ksi1, ksi2, ksi3, ksi4, ksi5, n, p):\n",
    "    Psi_T = np.array([np.zeros(len(eta)) + 1,ksi1, ksi2, ksi3, ksi4, ksi5])\n",
    "    F = np.dot(Psi_T, Psi_T.T)\n",
    "    F_inv = np.linalg.inv(F)\n",
    "    beta = np.dot(np.dot(F_inv, Psi_T), eta.T)\n",
    "    \n",
    "    e = eta - np.dot(Psi_T.T, beta.T)\n",
    "    RSS = np.dot(e.T, e)\n",
    "    mean = np.mean(eta)\n",
    "    TSS = np.sum([(etai - mean)**2 for etai in eta])\n",
    "    R_2 = 1 - RSS/TSS\n",
    "    delta_r = R_2 * TSS / RSS * (n-p) / (p-1)\n",
    "    \n",
    "    delta = []\n",
    "    for i in range(0, 6):\n",
    "        delta.append(beta[i]*((n-p)**0.5)/(RSS * F_inv[i, i])**0.5)\n",
    "        \n",
    "    return beta, delta, R_2,  delta_r, F_inv, RSS, TSS, e, Psi_T"
   ]
  },
  {
   "cell_type": "code",
   "execution_count": 240,
   "metadata": {},
   "outputs": [],
   "source": [
    "def possibility(delta, N, p, counter):\n",
    "    n = N - p\n",
    "    I = integrate.quad(lambda x: scipy.special.gamma(n/2 + 1/2) / (n*np.pi)**0.5 / scipy.special.gamma(n/2) / (1 + x*x/n)**(n/2+1/2), delta, np.inf)\n",
    "    p_val = 2*I[0]\n",
    "    print(\"p-value =\", round(p_val, 10))\n",
    "    if p_val > alpha:\n",
    "        print(\"β\", counter, \"не значима\")\n",
    "    else:\n",
    "        print(\"β\", counter, \"значима\")\n",
    "    return p_val"
   ]
  },
  {
   "cell_type": "markdown",
   "metadata": {},
   "source": [
    "## Линейная регрессия:"
   ]
  },
  {
   "cell_type": "code",
   "execution_count": 241,
   "metadata": {},
   "outputs": [
    {
     "name": "stdout",
     "output_type": "stream",
     "text": [
      "η = [-0.26  3.01 -2.92  1.78  1.57 -0.3 ] * (1, ξ1, ξ2, ξ3, ξ4, ξ5)\n"
     ]
    }
   ],
   "source": [
    "beta, delta, R_2, delta_R, F_inv, RSS, TSS, e, Psi_T = linear_regression(eta, ksi1, ksi2, ksi3, ksi4, ksi5, N, 6)\n",
    "p = []\n",
    "print(\"η =\", np.round(beta, 2), \"*\", \"(1, ξ1, ξ2, ξ3, ξ4, ξ5)\")"
   ]
  },
  {
   "cell_type": "markdown",
   "metadata": {},
   "source": [
    "## Значимость коэффициентов:"
   ]
  },
  {
   "cell_type": "markdown",
   "metadata": {},
   "source": [
    "## β0"
   ]
  },
  {
   "cell_type": "code",
   "execution_count": 242,
   "metadata": {},
   "outputs": [
    {
     "name": "stdout",
     "output_type": "stream",
     "text": [
      "p-value = 0.3777030253\n",
      "β 0 не значима\n"
     ]
    }
   ],
   "source": [
    "p.append(possibility(np.abs(delta[0]), N, 6, 0))"
   ]
  },
  {
   "cell_type": "markdown",
   "metadata": {},
   "source": [
    "## β1"
   ]
  },
  {
   "cell_type": "code",
   "execution_count": 243,
   "metadata": {},
   "outputs": [
    {
     "name": "stdout",
     "output_type": "stream",
     "text": [
      "p-value = 2.894e-07\n",
      "β 1 значима\n"
     ]
    }
   ],
   "source": [
    "p.append(possibility(np.abs(delta[1]), N, 6, 1))"
   ]
  },
  {
   "cell_type": "markdown",
   "metadata": {},
   "source": [
    "## β2"
   ]
  },
  {
   "cell_type": "code",
   "execution_count": 244,
   "metadata": {},
   "outputs": [
    {
     "name": "stdout",
     "output_type": "stream",
     "text": [
      "p-value = 4.3948e-06\n",
      "β 2 значима\n"
     ]
    }
   ],
   "source": [
    "p.append(possibility(np.abs(delta[2]), N, 6, 2))"
   ]
  },
  {
   "cell_type": "markdown",
   "metadata": {},
   "source": [
    "## β3"
   ]
  },
  {
   "cell_type": "code",
   "execution_count": 245,
   "metadata": {},
   "outputs": [
    {
     "name": "stdout",
     "output_type": "stream",
     "text": [
      "p-value = 0.0011217586\n",
      "β 3 значима\n"
     ]
    }
   ],
   "source": [
    "p.append(possibility(np.abs(delta[3]), N, 6, 3))"
   ]
  },
  {
   "cell_type": "markdown",
   "metadata": {},
   "source": [
    "## β4"
   ]
  },
  {
   "cell_type": "code",
   "execution_count": 246,
   "metadata": {},
   "outputs": [
    {
     "name": "stdout",
     "output_type": "stream",
     "text": [
      "p-value = 0.0037084716\n",
      "β 4 значима\n"
     ]
    }
   ],
   "source": [
    "p.append(possibility(np.abs(delta[4]), N, 6, 4))"
   ]
  },
  {
   "cell_type": "markdown",
   "metadata": {},
   "source": [
    "## β5"
   ]
  },
  {
   "cell_type": "code",
   "execution_count": 247,
   "metadata": {
    "scrolled": true
   },
   "outputs": [
    {
     "name": "stdout",
     "output_type": "stream",
     "text": [
      "p-value = 0.5630659885\n",
      "β 5 не значима\n"
     ]
    }
   ],
   "source": [
    "p.append(possibility(np.abs(delta[5]), N, 6, 5))"
   ]
  },
  {
   "cell_type": "markdown",
   "metadata": {},
   "source": [
    "# c) Коэффициент детерминации и его значимость"
   ]
  },
  {
   "cell_type": "markdown",
   "metadata": {},
   "source": [
    "## Коэффициент детерминации"
   ]
  },
  {
   "cell_type": "code",
   "execution_count": 248,
   "metadata": {},
   "outputs": [
    {
     "name": "stdout",
     "output_type": "stream",
     "text": [
      "R = 0.822\n"
     ]
    }
   ],
   "source": [
    "print(\"R =\", round(R_2**0.5, 3))"
   ]
  },
  {
   "cell_type": "markdown",
   "metadata": {},
   "source": [
    "## Значимость"
   ]
  },
  {
   "cell_type": "code",
   "execution_count": 249,
   "metadata": {},
   "outputs": [
    {
     "name": "stdout",
     "output_type": "stream",
     "text": [
      "p-value = 8.119923414190446e-10\n",
      "Регрессия значима\n"
     ]
    }
   ],
   "source": [
    "d1 = 6-1\n",
    "d2 = N-6\n",
    "p_value = integrate.quad(lambda x: ((d1*x)**d1 * d2**d2 / (d1*x + d2)**(d1+d2))**0.5 / (x * scipy.special.beta(d1/2, d2/2)), delta_R, np.inf)[0]\n",
    "print(\"p-value =\", p_value)\n",
    "if p_value > alpha/2 and p_value < 1-alpha/2:\n",
    "    print(\"Регрессия не значима\")\n",
    "else:\n",
    "    print(\"Регрессия значима\")"
   ]
  },
  {
   "cell_type": "markdown",
   "metadata": {},
   "source": [
    "# d) Значение в точке и доверительный интервал"
   ]
  },
  {
   "cell_type": "code",
   "execution_count": 250,
   "metadata": {},
   "outputs": [
    {
     "name": "stdout",
     "output_type": "stream",
     "text": [
      "y0 = -0.263\n",
      "-4.289 < η0 < 3.762\n"
     ]
    }
   ],
   "source": [
    "Psi_0 = np.array([1, 0, 0, 0, 0, 0])\n",
    "y0 = np.dot(Psi_0, beta)\n",
    "print(\"y0 =\", round(y0, 3))\n",
    "\n",
    "coeff = 0.95\n",
    "i = 0\n",
    "while (integrate.quad(lambda x: scipy.special.gamma((N-6)/2 + 1/2) / ((N-6)*np.pi)**0.5 / scipy.special.gamma((N-6)/2) / (1 + x*x/(N-6))**((N-6)/2+1/2), i, +np.inf)[0]) > (1 - coeff)/2:\n",
    "    i += 0.01\n",
    "\n",
    "A = 1 + np.dot(np.dot(Psi_0, F_inv), Psi_0.T)\n",
    "\n",
    "g = i * (A * RSS)**0.5 / (N-6)**0.5\n",
    "\n",
    "print(round(y0-g, 3), \"< η0 <\", round(y0+g, 3))"
   ]
  },
  {
   "cell_type": "markdown",
   "metadata": {},
   "source": [
    "# e) Предположение о независимости"
   ]
  },
  {
   "cell_type": "code",
   "execution_count": 251,
   "metadata": {},
   "outputs": [
    {
     "name": "stdout",
     "output_type": "stream",
     "text": [
      "p-value = 0.5037340452214429\n",
      "Нет оснований отвергнуть гипотезу независимости\n"
     ]
    }
   ],
   "source": [
    "Inv = 0\n",
    "for i in range (0, len(e)):\n",
    "    for j in range(i+1, len(e)):\n",
    "        if e[i] > e[j]:\n",
    "            Inv += 1\n",
    "delta = (Inv - N*(N-1)/4) / (N**3/36)\n",
    "p_value = integrate.quad(lambda x: 1/(2*np.pi)**0.5 * np.exp(-x*x/2), delta, np.inf)[0]\n",
    "print(\"p-value =\", p_value)\n",
    "if p_value > alpha:\n",
    "    print(\"Нет оснований отвергнуть гипотезу независимости\")\n",
    "else:\n",
    "    print(\"Есть везкие основания отвергнуть гипотезу независимости\")"
   ]
  },
  {
   "cell_type": "markdown",
   "metadata": {},
   "source": [
    "# f) Предположение о нормальности распределения ошибок"
   ]
  },
  {
   "cell_type": "code",
   "execution_count": 252,
   "metadata": {},
   "outputs": [
    {
     "name": "stdout",
     "output_type": "stream",
     "text": [
      "p-value = 0.74776\n",
      "Нет оснований отвергнуть гипотезу нормальности распределения ошибок\n"
     ]
    },
    {
     "data": {
      "image/png": "[encoded data removed]",
      "text/plain": [
       "<Figure size 432x288 with 1 Axes>"
      ]
     },
     "metadata": {
      "needs_background": "light"
     },
     "output_type": "display_data"
    }
   ],
   "source": [
    "sigma_2 = np.sum([x*x for x in e])/N\n",
    "x = np.linspace(-10, 10, 200)\n",
    "\n",
    "l = len(e)\n",
    "F_est = np.array([np.sum(e < xi)/l for xi in x])\n",
    "\n",
    "F_normal = [1/(sigma_2**0.5 * (2* np.pi)**0.5) * (integrate.quad(lambda xi: np.exp(-0.5*((xi)/sigma_2**0.5)**2), -np.inf, i)[0]) for i in x]\n",
    "pyplot.plot(x, F_est)\n",
    "pyplot.plot(x, F_normal)\n",
    "\n",
    "delta_est = np.max(np.abs(np.subtract(F_normal, F_est))) * N**0.5\n",
    "\n",
    "delta_kolmo = []\n",
    "Count = 50000\n",
    "for i in range(Count):\n",
    "    e_new = np.random.normal(0, sigma_2**0.5, N)\n",
    "    l = len(e_new)\n",
    "    F_new = np.array([np.sum(e_new < xi)/l for xi in x])\n",
    "    delta_kolmo.append(np.max(np.abs(np.subtract(F_est, F_new))) * N**0.5)\n",
    "\n",
    "delta_kolmo.sort()\n",
    "\n",
    "k = 0\n",
    "while k < Count and delta_est > delta_kolmo[k]:\n",
    "    k += 1\n",
    "p_value = 1 - k/Count\n",
    "\n",
    "print(\"p-value =\", p_value)\n",
    "if p_value > alpha:\n",
    "    print(\"Нет оснований отвергнуть гипотезу нормальности распределения ошибок\")\n",
    "else:\n",
    "    print(\"Есть везкие основания отвергнуть гипотезу нормальности распределения ошибок\")"
   ]
  },
  {
   "cell_type": "markdown",
   "metadata": {},
   "source": [
    "# g) Исследование на выбросы"
   ]
  },
  {
   "cell_type": "code",
   "execution_count": 253,
   "metadata": {},
   "outputs": [
    {
     "name": "stdout",
     "output_type": "stream",
     "text": [
      "Выбросы:\n",
      "-4.665\n",
      "3.613\n",
      "-3.522\n",
      "3.033\n",
      "3.648\n",
      "Было: R^2 = 0.676\n",
      "Стало: R^2 = 0.776\n"
     ]
    }
   ],
   "source": [
    "abse = np.abs(e)\n",
    "abse.sort()\n",
    "e_pure = []\n",
    "eta_pure = []\n",
    "Psi_pure = []\n",
    "print(\"Выбросы:\")\n",
    "sigma = np.median(abse) / 0.675\n",
    "sigma = 0.8*sigma\n",
    "for i in range (0, len(e)):\n",
    "    if(e[i] > 2*sigma or e[i] < -2*sigma):\n",
    "        print(round(e[i], 3))\n",
    "    else:\n",
    "        e_pure.append(e[i])\n",
    "        eta_pure.append(eta[i])\n",
    "        Psi_pure.append(Psi_T.T[i])\n",
    "        \n",
    "if(len(e_pure) == len(e)):\n",
    "    print(\"Выбросов нет\")\n",
    "\n",
    "e_pure = eta_pure - np.dot(Psi_pure, beta.T)\n",
    "RSS_pure = np.dot(e_pure.T, e_pure)\n",
    "mean_pure = np.mean(eta_pure)\n",
    "TSS_pure = np.sum([(etai - mean_pure)**2 for etai in eta_pure])\n",
    "R_2_pure = 1 - RSS_pure/TSS_pure\n",
    "print(\"Было: R^2 =\", round(R_2, 3))\n",
    "print(\"Стало: R^2 =\", round(R_2_pure, 3))"
   ]
  },
  {
   "cell_type": "markdown",
   "metadata": {},
   "source": [
    "# h) Кросс-проверка регрессии"
   ]
  },
  {
   "cell_type": "code",
   "execution_count": 254,
   "metadata": {},
   "outputs": [
    {
     "name": "stdout",
     "output_type": "stream",
     "text": [
      "R_CV^2 = 0.571\n"
     ]
    }
   ],
   "source": [
    "R_cv = []\n",
    "for i in range (0, len(eta)):\n",
    "    ksi1_h = np.delete(ksi1, i)\n",
    "    ksi2_h = np.delete(ksi2, i)\n",
    "    ksi3_h = np.delete(ksi3, i)\n",
    "    ksi4_h = np.delete(ksi4, i)\n",
    "    ksi5_h = np.delete(ksi5, i)\n",
    "    eta_h = np.delete(eta, i)    \n",
    "    \n",
    "    Psi_h_T = np.array([np.zeros(len(eta_h)) + 1,ksi1_h, ksi2_h, ksi3_h, ksi4_h, ksi5_h])\n",
    "    F_h = np.dot(Psi_h_T, Psi_h_T.T)\n",
    "    F_h_inv = np.linalg.inv(F_h)\n",
    "    beta_h = np.dot(np.dot(F_h_inv, Psi_h_T), eta_h.T)\n",
    "    \n",
    "    R_cv.append((np.dot(np.array([1, ksi1[i], ksi2[i], ksi3[i], ksi4[i], ksi5[i]]), beta_h) - eta[i])**2)\n",
    "\n",
    "R_CV = 1 - np.sum(R_cv) / TSS\n",
    "\n",
    "print(\"R_CV^2 =\", round(R_CV, 3))"
   ]
  },
  {
   "cell_type": "markdown",
   "metadata": {},
   "source": [
    "# i) Адекватность регрессии"
   ]
  },
  {
   "cell_type": "code",
   "execution_count": 255,
   "metadata": {},
   "outputs": [
    {
     "name": "stdout",
     "output_type": "stream",
     "text": [
      "p-value = 0.13112655424962283\n",
      "Модель адекватна\n"
     ]
    }
   ],
   "source": [
    "x_fix = np.array([1, ksi1[0], ksi2[0], ksi3[0], ksi4[0], ksi5[0]])\n",
    "\n",
    "y = np.random.normal(np.dot(np.array([2, 3, -2, 1, 1, -1]), x_fix), 1.5, 5)\n",
    "\n",
    "Sigma_hat = 1 / (len(y) - 1) * np.sum([(yi - np.mean(y))**2 for yi in y])\n",
    "\n",
    "delta = RSS / (N-6) / Sigma_hat\n",
    "\n",
    "d2 = len(y) - 1\n",
    "d1 = N-6\n",
    "p_value = integrate.quad(lambda x: ((d1*x)**d1 * d2**d2 / (d1*x + d2)**(d1+d2))**0.5 / (x * scipy.special.beta(d1/2, d2/2)), delta, np.inf)[0]\n",
    "print(\"p-value =\", p_value)\n",
    "if p_value > alpha/2 and p_value < 1-alpha/2:\n",
    "    print(\"Модель адекватна\")\n",
    "else:\n",
    "    print(\"Модель не адекватна\")"
   ]
  },
  {
   "cell_type": "markdown",
   "metadata": {},
   "source": [
    "# j) Удаление наименее значимого коэффициента и повторение b) и c)"
   ]
  },
  {
   "cell_type": "markdown",
   "metadata": {},
   "source": [
    "## Линейная регрессия:"
   ]
  },
  {
   "cell_type": "code",
   "execution_count": 256,
   "metadata": {},
   "outputs": [],
   "source": [
    "def linear_regression_short(eta, Psi_T, n, p):\n",
    "    F = np.dot(Psi_T, Psi_T.T)\n",
    "    F_inv = np.linalg.inv(F)\n",
    "    beta = np.dot(np.dot(F_inv, Psi_T), eta.T)\n",
    "    \n",
    "    e = eta - np.dot(Psi_T.T, beta.T)\n",
    "    RSS = np.dot(e.T, e)\n",
    "    mean = np.mean(eta)\n",
    "    TSS = np.sum([(etai - mean)**2 for etai in eta])\n",
    "    R_2 = 1 - RSS/TSS\n",
    "    delta_r = R_2 * TSS / RSS * (n-p) / (p-1)\n",
    "    \n",
    "    delta = []\n",
    "    for i in range(0, 5):\n",
    "        delta.append(beta[i]*((n-p)**0.5)/(RSS * F_inv[i, i])**0.5)\n",
    "\n",
    "    return beta, R_2, RSS, TSS, delta, delta_r"
   ]
  },
  {
   "cell_type": "code",
   "execution_count": 257,
   "metadata": {},
   "outputs": [],
   "source": [
    "def possibility(delta, N, p, counter):\n",
    "    n = N - p\n",
    "    I = integrate.quad(lambda x: scipy.special.gamma(n/2 + 1/2) / (n*np.pi)**0.5 / scipy.special.gamma(n/2) / (1 + x*x/n)**(n/2+1/2), delta, np.inf)\n",
    "    p_val = 2*I[0]\n",
    "    print(\"p-value =\", round(p_val, 10))\n",
    "    if p_val > alpha:\n",
    "        print(\"β\", counter, \"не значима\")\n",
    "    else:\n",
    "        print(\"β\", counter, \"значима\")"
   ]
  },
  {
   "cell_type": "code",
   "execution_count": 258,
   "metadata": {
    "scrolled": true
   },
   "outputs": [
    {
     "name": "stdout",
     "output_type": "stream",
     "text": [
      "Было: η = [-0.26  3.01 -2.92  1.78  1.57 -0.3 ] * (1, ξ1, ξ2, ξ3, ξ4, ξ5)\n",
      "Стало: η = [-0.26  3.07 -2.92  1.79  1.63] * (1, ξ1, ξ2, ξ3, ξ4)\n"
     ]
    }
   ],
   "source": [
    "p=np.array(p)\n",
    "Psi_short = np.array([np.zeros(N) + 1, ksi1, ksi2, ksi3, ksi4, ksi5])\n",
    "Psi_short = np.delete(Psi_short, p.argmax(), axis = 0)\n",
    "\n",
    "beta_short, R_2_short, RSS_short, TSS_short, delta_short, delta_R_short = linear_regression_short(eta, Psi_short, N, 5)\n",
    "print(\"Было: η =\", np.round(beta, 2), \"*\", \"(1, ξ1, ξ2, ξ3, ξ4, ξ5)\")\n",
    "print(\"Стало: η =\", np.round(beta_short, 2), \"*\", \"(1, ξ1, ξ2, ξ3, ξ4)\")"
   ]
  },
  {
   "cell_type": "markdown",
   "metadata": {},
   "source": [
    "## Значимость коэффициентов:"
   ]
  },
  {
   "cell_type": "markdown",
   "metadata": {},
   "source": [
    "## β0"
   ]
  },
  {
   "cell_type": "code",
   "execution_count": 259,
   "metadata": {},
   "outputs": [
    {
     "name": "stdout",
     "output_type": "stream",
     "text": [
      "p-value = 0.3724568866\n",
      "β 0 не значима\n"
     ]
    }
   ],
   "source": [
    "possibility(np.abs(delta_short[0]), N, 5, 0)"
   ]
  },
  {
   "cell_type": "markdown",
   "metadata": {},
   "source": [
    "## β1"
   ]
  },
  {
   "cell_type": "code",
   "execution_count": 260,
   "metadata": {},
   "outputs": [
    {
     "name": "stdout",
     "output_type": "stream",
     "text": [
      "p-value = 8.77e-08\n",
      "β 1 значима\n"
     ]
    }
   ],
   "source": [
    "possibility(np.abs(delta_short[1]), N, 5, 1)"
   ]
  },
  {
   "cell_type": "markdown",
   "metadata": {},
   "source": [
    "## β2"
   ]
  },
  {
   "cell_type": "code",
   "execution_count": 261,
   "metadata": {},
   "outputs": [
    {
     "name": "stdout",
     "output_type": "stream",
     "text": [
      "p-value = 3.6875e-06\n",
      "β 2 значима\n"
     ]
    }
   ],
   "source": [
    "possibility(np.abs(delta_short[2]), N, 5, 2)"
   ]
  },
  {
   "cell_type": "markdown",
   "metadata": {},
   "source": [
    "## β3"
   ]
  },
  {
   "cell_type": "code",
   "execution_count": 262,
   "metadata": {},
   "outputs": [
    {
     "name": "stdout",
     "output_type": "stream",
     "text": [
      "p-value = 0.0009810333\n",
      "β 3 значима\n"
     ]
    }
   ],
   "source": [
    "possibility(np.abs(delta_short[3]), N, 5, 3)"
   ]
  },
  {
   "cell_type": "markdown",
   "metadata": {},
   "source": [
    "## β4"
   ]
  },
  {
   "cell_type": "code",
   "execution_count": 263,
   "metadata": {},
   "outputs": [
    {
     "name": "stdout",
     "output_type": "stream",
     "text": [
      "p-value = 0.0020798496\n",
      "β 4 значима\n"
     ]
    }
   ],
   "source": [
    "possibility(np.abs(delta_short[4]), N, 5, 4)"
   ]
  },
  {
   "cell_type": "markdown",
   "metadata": {},
   "source": [
    "## Коэффициент детерминации и его значимость"
   ]
  },
  {
   "cell_type": "markdown",
   "metadata": {},
   "source": [
    "## Коэффициент детерминации"
   ]
  },
  {
   "cell_type": "code",
   "execution_count": 264,
   "metadata": {},
   "outputs": [
    {
     "name": "stdout",
     "output_type": "stream",
     "text": [
      "R^2 = 0.821\n"
     ]
    }
   ],
   "source": [
    "print(\"R^2 =\", round(R_2_short**0.5, 3))"
   ]
  },
  {
   "cell_type": "markdown",
   "metadata": {},
   "source": [
    "## Значимость"
   ]
  },
  {
   "cell_type": "code",
   "execution_count": 265,
   "metadata": {},
   "outputs": [
    {
     "name": "stdout",
     "output_type": "stream",
     "text": [
      "p-value = 1.8349610518048828e-10\n",
      "Регрессия значима\n"
     ]
    }
   ],
   "source": [
    "d1 = 5-1\n",
    "d2 = N-5\n",
    "p_value_short = integrate.quad(lambda x: ((d1*x)**d1 * d2**d2 / (d1*x + d2)**(d1+d2))**0.5 / (x * scipy.special.beta(d1/2, d2/2)), delta_R_short, np.inf)[0]\n",
    "print(\"p-value =\", p_value_short)\n",
    "if p_value_short > alpha/2 and p_value_short < 1-alpha/2:\n",
    "    print(\"Регрессия не значима\")\n",
    "else:\n",
    "    print(\"Регрессия значима\")"
   ]
  },
  {
   "cell_type": "markdown",
   "metadata": {},
   "source": [
    "# k) Сравнение уравнений регрессии"
   ]
  },
  {
   "cell_type": "code",
   "execution_count": 266,
   "metadata": {},
   "outputs": [],
   "source": [
    "def linear_regression_bootstrap(eta, Psi_T, n, p):\n",
    "    F = np.dot(Psi_T, Psi_T.T)\n",
    "    F_inv = np.linalg.inv(F)\n",
    "    beta = np.dot(np.dot(F_inv, Psi_T), eta.T)\n",
    "    \n",
    "    e = eta - np.dot(Psi_T.T, beta.T)\n",
    "    RSS = np.dot(e.T, e)\n",
    "    mean = np.mean(eta)\n",
    "    TSS = np.sum([(etai - mean)**2 for etai in eta])\n",
    "    R_2 = 1 - RSS/TSS\n",
    "    return R_2"
   ]
  },
  {
   "cell_type": "code",
   "execution_count": 267,
   "metadata": {},
   "outputs": [
    {
     "name": "stdout",
     "output_type": "stream",
     "text": [
      "p-value = 0.643\n",
      "Нет смысла добалять новый признак\n"
     ]
    }
   ],
   "source": [
    "Psi = np.array([np.zeros(N) + 1, ksi1, ksi2, ksi3, ksi4, ksi5])\n",
    "p=np.array(p)\n",
    "\n",
    "delta = []\n",
    "delta_w = R_2 - R_2_short\n",
    "\n",
    "v = 1000\n",
    "for i in range (0, v):\n",
    "    num = np.random.randint(0, N, N)\n",
    "    Psi_T_i = []\n",
    "    Psi_T_short_i = []\n",
    "    eta_i = []\n",
    "    for j in num:\n",
    "        Psi_T_i.append(Psi.T[j])\n",
    "        Psi_T_short_i.append(Psi_short.T[j])\n",
    "        eta_i.append(eta[j])\n",
    "    delta.append(linear_regression_bootstrap(np.array(eta_i), np.array(Psi_T_i).T, N, 6) - linear_regression_bootstrap(np.array(eta_i), np.array(Psi_T_short_i). T, N, 5))\n",
    "    \n",
    "delta.sort()\n",
    "\n",
    "\n",
    "k = 0\n",
    "while k < v and delta_w > delta[k]:\n",
    "    k += 1\n",
    "p_value = 1 - k/v\n",
    "\n",
    "print(\"p-value =\", p_value)\n",
    "if p_value > alpha:\n",
    "    print(\"Нет смысла добалять новый признак\")\n",
    "else:\n",
    "    print(\"Есть смысл добавить новый признак\")"
   ]
  }
 ],
 "metadata": {
  "kernelspec": {
   "display_name": "Python 3",
   "language": "python",
   "name": "python3"
  },
  "language_info": {
   "codemirror_mode": {
    "name": "ipython",
    "version": 3
   },
   "file_extension": ".py",
   "mimetype": "text/x-python",
   "name": "python",
   "nbconvert_exporter": "python",
   "pygments_lexer": "ipython3",
   "version": "3.9.0"
  }
 },
 "nbformat": 4,
 "nbformat_minor": 4
}
