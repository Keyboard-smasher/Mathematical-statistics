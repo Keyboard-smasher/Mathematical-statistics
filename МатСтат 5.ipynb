{
 "cells": [
  {
   "cell_type": "code",
   "execution_count": 211,
   "metadata": {},
   "outputs": [],
   "source": [
    "import numpy as np\n",
    "from matplotlib import pyplot\n",
    "import time"
   ]
  },
  {
   "cell_type": "code",
   "execution_count": 222,
   "metadata": {},
   "outputs": [],
   "source": [
    "n = 100\n",
    "theta = 3\n",
    "beta = 0.95\n",
    "f1, f2 = np.zeros(5, dtype = np.float64), np.zeros(5, dtype = np.float64)\n"
   ]
  },
  {
   "cell_type": "code",
   "execution_count": 223,
   "metadata": {},
   "outputs": [],
   "source": [
    "def F(x, theta):\n",
    "    return 1 - x**(1-theta)\n",
    "\n",
    "def p(x, theta):\n",
    "    return (theta-1) / x**theta"
   ]
  },
  {
   "cell_type": "code",
   "execution_count": 224,
   "metadata": {},
   "outputs": [],
   "source": [
    "def randx(val, theta, step = 0.01):\n",
    "    x = 1\n",
    "    s = 0\n",
    "    while s < val:\n",
    "        s += 1/2 * (p(x, theta) + p(x + step, theta)) * step\n",
    "        x += step\n",
    "    return x\n",
    "      \n",
    "def find_gauss_broder(beta, step = 0.01):\n",
    "    nado = 1/((np.pi*2)**0.5)\n",
    "    sum = 0\n",
    "    x = 0\n",
    "    def plotnost(x):\n",
    "        return nado * np.exp((-x**2) / 2)\n",
    "    while sum < beta/2 :\n",
    "        sum += plotnost(x) * step\n",
    "        x += step\n",
    "    return x, -x"
   ]
  },
  {
   "cell_type": "code",
   "execution_count": 225,
   "metadata": {},
   "outputs": [
    {
     "name": "stdout",
     "output_type": "stream",
     "text": [
      "0.009997129440307617\n"
     ]
    }
   ],
   "source": [
    "start_time = time.time()\n",
    "f = np.random.random(n)\n",
    "x = [randx(g, theta) for g in f]\n",
    "print(time.time() - start_time)"
   ]
  },
  {
   "cell_type": "markdown",
   "metadata": {},
   "source": [
    "# Доверительный интервал для медианы"
   ]
  },
  {
   "cell_type": "code",
   "execution_count": 226,
   "metadata": {},
   "outputs": [
    {
     "name": "stdout",
     "output_type": "stream",
     "text": [
      "1.1850096957004217  < Xmed <  1.5838256177887668\n"
     ]
    }
   ],
   "source": [
    "e1, e2 = find_gauss_broder(beta, step = 0.001)\n",
    "\n",
    "theta_weird = 1 + n / np.sum(np.log(x))\n",
    "const = theta_weird * np.log(2) / (theta_weird - 1) / n**0.5\n",
    "\n",
    "f1[0] = 2**(1 / (theta_weird - 1)) - e1 * const\n",
    "f2[0] = 2**(1 / (theta_weird - 1)) - e2 * const \n",
    "\n",
    "print(f1[0], \" < Xmed < \", f2[0])"
   ]
  },
  {
   "cell_type": "markdown",
   "metadata": {},
   "source": [
    "# Байесовский доверительный интервал"
   ]
  },
  {
   "cell_type": "code",
   "execution_count": 227,
   "metadata": {},
   "outputs": [
    {
     "name": "stdout",
     "output_type": "stream",
     "text": [
      "2.716999999999811  < ϴ <  3.5370000167346682\n"
     ]
    }
   ],
   "source": [
    "def bayes_func(x, lower_const, n, C = 1) :\n",
    "    res = C / lower_const**x * np.exp(1 - x) * (x - 1)**n  \n",
    "    return res\n",
    "\n",
    "def bayer_integrate(lower, upper, lower_const, n, C = 1, step = 0.001):\n",
    "    x = lower\n",
    "    s = 0\n",
    "    try:\n",
    "        while x < upper:\n",
    "            s += 1/2 * (bayes_func(x, lower_const, n, C) + bayes_func(x+step, lower_const, n, C)) * step\n",
    "            x += step\n",
    "    except:\n",
    "        return s\n",
    "    return s\n",
    "\n",
    "def calculate_borders(beta, lower_const, n, C, step = 0.001, low = 1, up = 1000):\n",
    "    c = 1/2 - beta/2\n",
    "    f1, f2 = 0, 0\n",
    "    \n",
    "    lower = low\n",
    "    upper = up\n",
    "    \n",
    "    s = 0\n",
    "    while s < c:\n",
    "        s += bayer_integrate(lower, lower + step, lower_const, n, C, step/10)\n",
    "        lower += step\n",
    "    f1 = lower\n",
    "    \n",
    "    s = 0\n",
    "    while s < c:\n",
    "        s += bayer_integrate(upper - step, upper, lower_const, n, C, step/10)\n",
    "        upper -= step\n",
    "    f2= upper\n",
    "    \n",
    "    return f1, f2\n",
    "    \n",
    "\n",
    "\n",
    "\n",
    "lower_const = 1\n",
    "for X in x:\n",
    "    lower_const *= X\n",
    "C = 1 / bayer_integrate(1, 1000, lower_const, n)\n",
    "\n",
    "f1[1], f2[1] = calculate_borders(beta, lower_const, n, C)\n",
    "print(f1[1], \" < \\u03F4 < \", f2[1])\n"
   ]
  },
  {
   "cell_type": "markdown",
   "metadata": {},
   "source": [
    "# Ассимптотический доверительный интервал для Тета"
   ]
  },
  {
   "cell_type": "code",
   "execution_count": 228,
   "metadata": {},
   "outputs": [
    {
     "name": "stdout",
     "output_type": "stream",
     "text": [
      "2.713691806279522  < ϴ <  3.54816297183413\n"
     ]
    }
   ],
   "source": [
    "e1, e2 = find_gauss_broder(beta, step = 0.001)\n",
    "\n",
    "theta_weird = 1 + n / np.sum(np.log(x))\n",
    "\n",
    "f1[2] = theta_weird - e1 * (theta_weird - 1) / n**0.5\n",
    "f2[2] = theta_weird - e2 * (theta_weird - 1) / n**0.5\n",
    "\n",
    "print(f1[2], \" < \\u03F4 < \", f2[2])"
   ]
  },
  {
   "cell_type": "markdown",
   "metadata": {},
   "source": [
    "# Непараметрический Bootstrap"
   ]
  },
  {
   "cell_type": "code",
   "execution_count": 229,
   "metadata": {},
   "outputs": [
    {
     "name": "stdout",
     "output_type": "stream",
     "text": [
      "2.5849568606694207  < ϴ <  3.5078749547562325\n"
     ]
    }
   ],
   "source": [
    "thts = []\n",
    "N = 1000\n",
    "for s in range (0, N):\n",
    "    i = np.random.randint(0, n, n)\n",
    "    xi = []\n",
    "    for j in i:\n",
    "        xi.append(x[j])\n",
    "\n",
    "    thts.append(theta_weird - 1 - n / np.sum(np.log(xi)))\n",
    "thts.sort()\n",
    "\n",
    "f1[3] = thts[int((1/2 - beta/2)*N)] + theta_weird\n",
    "f2[3] = thts[int((1/2 + beta/2)*N)] + theta_weird\n",
    "print(f1[3], \" < \\u03F4 < \", f2[3])"
   ]
  },
  {
   "cell_type": "markdown",
   "metadata": {},
   "source": [
    "# Параметрический Bootstrap"
   ]
  },
  {
   "cell_type": "code",
   "execution_count": 232,
   "metadata": {},
   "outputs": [
    {
     "name": "stdout",
     "output_type": "stream",
     "text": [
      "2.665182484442903  < ϴ <  3.5024564649742453\n"
     ]
    }
   ],
   "source": [
    "N = 50000\n",
    "theta_weird = 1 + n / np.sum(np.log(x))\n",
    "thets_param = []\n",
    "\n",
    "for i in range (0, N):\n",
    "    f = np.random.random(n)\n",
    "    xi = [randx(g, theta_weird) for g in f]\n",
    "    theta_weird_i = 1 + n / np.sum(np.log(xi))\n",
    "    thets_param.append(theta_weird - theta_weird_i)\n",
    "    \n",
    "thets_param.sort()\n",
    "f1[4] = thets_param[int((1/2 - beta/2)*N)] + theta_weird\n",
    "f2[4] = thets_param[int((1/2 + beta/2)*N)] + theta_weird\n",
    "print(f1[4], \" < \\u03F4 < \", f2[4])"
   ]
  },
  {
   "cell_type": "markdown",
   "metadata": {},
   "source": [
    "# Визуальное сравнение"
   ]
  },
  {
   "cell_type": "code",
   "execution_count": 237,
   "metadata": {},
   "outputs": [
    {
     "data": {
      "image/png": "[encoded data removed]",
      "text/plain": [
       "<Figure size 432x288 with 1 Axes>"
      ]
     },
     "metadata": {
      "needs_background": "light"
     },
     "output_type": "display_data"
    }
   ],
   "source": [
    "pyplot.plot([f1[1], f2[1]], [3, 3], label = \"Байесовский для тета\")\n",
    "pyplot.plot([f1[2], f2[2]], [2, 2], label = \"Ассимптотический для тета\")\n",
    "pyplot.plot([f1[3], f2[3]], [1, 1], label = \"Непараметрический bootstrap для тета\")\n",
    "pyplot.plot([f1[4], f2[4]], [0, 0], label = \"Параметрический bootstrap для тета\")\n",
    "pyplot.plot([theta, theta], [0, 3], color = \"black\", label = \"Тета\")\n",
    "\n",
    "pyplot.legend(loc=4, prop={'size': 6})\n",
    "pyplot.show()"
   ]
  },
  {
   "cell_type": "code",
   "execution_count": 239,
   "metadata": {},
   "outputs": [
    {
     "data": {
      "image/png": "[encoded data removed]",
      "text/plain": [
       "<Figure size 432x288 with 1 Axes>"
      ]
     },
     "metadata": {
      "needs_background": "light"
     },
     "output_type": "display_data"
    }
   ],
   "source": [
    "pyplot.plot([f1[0], f2[0]], [4, 4], label = \"ОМП для медианы\")\n",
    "pyplot.legend(loc=4, prop={'size': 10})\n",
    "pyplot.show()"
   ]
  }
 ],
 "metadata": {
  "kernelspec": {
   "display_name": "Python 3",
   "language": "python",
   "name": "python3"
  },
  "language_info": {
   "codemirror_mode": {
    "name": "ipython",
    "version": 3
   },
   "file_extension": ".py",
   "mimetype": "text/x-python",
   "name": "python",
   "nbconvert_exporter": "python",
   "pygments_lexer": "ipython3",
   "version": "3.9.0"
  }
 },
 "nbformat": 4,
 "nbformat_minor": 4
}
