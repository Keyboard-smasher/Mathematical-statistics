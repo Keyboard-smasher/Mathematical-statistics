{
 "cells": [
  {
   "cell_type": "code",
   "execution_count": 1,
   "metadata": {},
   "outputs": [],
   "source": [
    "import scipy.integrate as integrate\n",
    "import scipy.special as special\n",
    "import numpy as np\n",
    "from matplotlib import pyplot\n",
    "import scipy\n",
    "import seaborn as sns"
   ]
  },
  {
   "cell_type": "code",
   "execution_count": 2,
   "metadata": {},
   "outputs": [],
   "source": [
    "def X(theta1, theta2):\n",
    "    x = np.zeros(10)\n",
    "    for i in range(0,100):\n",
    "        j = 0\n",
    "        val = np.random.normal(theta1, theta2)\n",
    "        val += 0.5\n",
    "        if val < 0.5:\n",
    "            x[0] += 1\n",
    "            continue\n",
    "        if val > 8.5 :\n",
    "            x[9] += 1\n",
    "            continue\n",
    "        j = round(val)\n",
    "        x[j] += 1\n",
    "    return x\n",
    "        \n",
    "            \n",
    "    "
   ]
  },
  {
   "cell_type": "code",
   "execution_count": 3,
   "metadata": {},
   "outputs": [],
   "source": [
    "def F(theta1, theta2):\n",
    "    d1 = 1/(theta2 * (2* np.pi)**0.5) * (integrate.quad(lambda x: np.exp(-0.5*((x-theta1)/theta2)**2), -np.inf, 0.5)[0])\n",
    "    d2 = 1/(theta2 * (2* np.pi)**0.5) * (integrate.quad(lambda x: np.exp(-0.5*((x-theta1)/theta2)**2), 0.5, 1.5)[0])\n",
    "    d3 = 1/(theta2 * (2* np.pi)**0.5) * (integrate.quad(lambda x: np.exp(-0.5*((x-theta1)/theta2)**2), 1.5, 2.5)[0])\n",
    "    d4 = 1/(theta2 * (2* np.pi)**0.5) * (integrate.quad(lambda x: np.exp(-0.5*((x-theta1)/theta2)**2), 2.5, 3.5)[0])\n",
    "    d5 = 1/(theta2 * (2* np.pi)**0.5) * (integrate.quad(lambda x: np.exp(-0.5*((x-theta1)/theta2)**2), 3.5, 4.5)[0])\n",
    "    d6 = 1/(theta2 * (2* np.pi)**0.5) * (integrate.quad(lambda x: np.exp(-0.5*((x-theta1)/theta2)**2), 4.5, 5.5)[0])\n",
    "    d7 = 1/(theta2 * (2* np.pi)**0.5) * (integrate.quad(lambda x: np.exp(-0.5*((x-theta1)/theta2)**2), 5.5, 6.5)[0])\n",
    "    d8 = 1/(theta2 * (2* np.pi)**0.5) * (integrate.quad(lambda x: np.exp(-0.5*((x-theta1)/theta2)**2), 6.5, 7.5)[0])\n",
    "    d9 = 1/(theta2 * (2* np.pi)**0.5) * (integrate.quad(lambda x: np.exp(-0.5*((x-theta1)/theta2)**2), 7.5, 8.5)[0])\n",
    "    d10 = 1/(theta2 * (2* np.pi)**0.5) * (integrate.quad(lambda x: np.exp(-0.5*((x-theta1)/theta2)**2), 8.5, np.inf)[0])\n",
    "    return d1**5 * d2**8 * d3**6 * d4**12 * d5**14 * d6**18 * d7**11 * d8**6 * d9**13 * d10**7                                              "
   ]
  },
  {
   "cell_type": "code",
   "execution_count": 4,
   "metadata": {},
   "outputs": [],
   "source": [
    "def params(theta1, theta2):\n",
    "    d1 = 1/(theta2 * (2* np.pi)**0.5) * (integrate.quad(lambda x: np.exp(-0.5*((x-theta1)/theta2)**2), -np.inf, 0.5)[0])\n",
    "    d2 = 1/(theta2 * (2* np.pi)**0.5) * (integrate.quad(lambda x: np.exp(-0.5*((x-theta1)/theta2)**2), 0.5, 1.5)[0])\n",
    "    d3 = 1/(theta2 * (2* np.pi)**0.5) * (integrate.quad(lambda x: np.exp(-0.5*((x-theta1)/theta2)**2), 1.5, 2.5)[0])\n",
    "    d4 = 1/(theta2 * (2* np.pi)**0.5) * (integrate.quad(lambda x: np.exp(-0.5*((x-theta1)/theta2)**2), 2.5, 3.5)[0])\n",
    "    d5 = 1/(theta2 * (2* np.pi)**0.5) * (integrate.quad(lambda x: np.exp(-0.5*((x-theta1)/theta2)**2), 3.5, 4.5)[0])\n",
    "    d6 = 1/(theta2 * (2* np.pi)**0.5) * (integrate.quad(lambda x: np.exp(-0.5*((x-theta1)/theta2)**2), 4.5, 5.5)[0])\n",
    "    d7 = 1/(theta2 * (2* np.pi)**0.5) * (integrate.quad(lambda x: np.exp(-0.5*((x-theta1)/theta2)**2), 5.5, 6.5)[0])\n",
    "    d8 = 1/(theta2 * (2* np.pi)**0.5) * (integrate.quad(lambda x: np.exp(-0.5*((x-theta1)/theta2)**2), 6.5, 7.5)[0])\n",
    "    d9 = 1/(theta2 * (2* np.pi)**0.5) * (integrate.quad(lambda x: np.exp(-0.5*((x-theta1)/theta2)**2), 7.5, 8.5)[0])\n",
    "    d10 = 1/(theta2 * (2* np.pi)**0.5) * (integrate.quad(lambda x: np.exp(-0.5*((x-theta1)/theta2)**2), 8.5, np.inf)[0])\n",
    "    return d1, d2, d3, d4, d5, d6, d7, d8, d9, d10                                              "
   ]
  },
  {
   "cell_type": "code",
   "execution_count": 5,
   "metadata": {},
   "outputs": [],
   "source": [
    "x = [5, 8, 6, 12, 14, 18, 11, 6, 13, 7]"
   ]
  },
  {
   "cell_type": "markdown",
   "metadata": {},
   "source": [
    "# Эмпирическая функция начальных данных"
   ]
  },
  {
   "cell_type": "code",
   "execution_count": 6,
   "metadata": {},
   "outputs": [
    {
     "data": {
      "image/png": "[encoded data removed]",
      "text/plain": [
       "<Figure size 432x288 with 1 Axes>"
      ]
     },
     "metadata": {
      "needs_background": "light"
     },
     "output_type": "display_data"
    }
   ],
   "source": [
    "f1 = [0]\n",
    "for i in x:\n",
    "    f1.append(f1[-1] + i/100)\n",
    "f3 = [0]\n",
    "for i in f1[1:-1]:\n",
    "    f3.append(i)\n",
    "    f3.append(i)\n",
    "f3.append(1)\n",
    "x1 = np.linspace(0, 9, 10)\n",
    "x2 = []\n",
    "for i in x1:\n",
    "    x2.append(i)\n",
    "    x2.append(i)\n",
    "\n",
    "pyplot.plot(x2, f3)\n",
    "f2 = np.linspace(0, 1, 10)\n",
    "f4 = []\n",
    "for i in f2:\n",
    "    f4.append(i)\n",
    "    f4.append(i)\n",
    "\n",
    "pyplot.plot(x2, f4)\n",
    "#pyplot.plot(f1[1:])\n",
    "z = np.subtract(f4, f3)\n",
    "z = np.abs(z)\n",
    "delta_mark = 10*np.max(z)"
   ]
  },
  {
   "cell_type": "markdown",
   "metadata": {},
   "source": [
    "# Оценка тета1 и тета2 по ММП"
   ]
  },
  {
   "cell_type": "code",
   "execution_count": 7,
   "metadata": {},
   "outputs": [
    {
     "name": "stdout",
     "output_type": "stream",
     "text": [
      "Тета1:  4.787878787878788  Тета2:  2.6818181818181817\n"
     ]
    }
   ],
   "source": [
    "t1 = t2 = m = 0\n",
    "s = 0\n",
    "for theta1 in np.linspace(4.5, 5, 100):\n",
    "    for theta2 in np.linspace(2.5, 3, 100):\n",
    "        s = F(theta1, theta2)\n",
    "        if (m < s):\n",
    "            m = s\n",
    "            t1 = theta1\n",
    "            t2 = theta2\n",
    "print(\"Тета1: \", t1, \" Тета2: \", t2)"
   ]
  },
  {
   "cell_type": "markdown",
   "metadata": {},
   "source": [
    "# Критерий Колмогорова (параметрический Bootstrap)"
   ]
  },
  {
   "cell_type": "code",
   "execution_count": 8,
   "metadata": {},
   "outputs": [
    {
     "name": "stdout",
     "output_type": "stream",
     "text": [
      "p-value =  0.88368\n"
     ]
    }
   ],
   "source": [
    "N = 50000\n",
    "delta = []\n",
    "delta_mark = 0\n",
    "\n",
    "\n",
    "theta1 = theta2 = 0\n",
    "for i in range(0, 10):\n",
    "    theta1 += 1/100 * i * x[i]\n",
    "    theta2 += 1/100 * i*i * x[i]\n",
    "theta2 = (theta2 - theta1**2)**0.5\n",
    "theta1, theta2\n",
    "\n",
    "f1 = [0]\n",
    "for i in x:\n",
    "    f1.append(f1[-1] + i/100)\n",
    "f3 = [0]\n",
    "for i in f1[1:-1]:\n",
    "    f3.append(i)\n",
    "    f3.append(i)\n",
    "f3.append(1)\n",
    "x1 = np.linspace(0, 9, 10)\n",
    "x2 = []\n",
    "for i in x1:\n",
    "    x2.append(i)\n",
    "    x2.append(i)\n",
    "    \n",
    "f2 = [1/(theta2 * (2* np.pi)**0.5) * (integrate.quad(lambda x: np.exp(-0.5*((x-theta1)/theta2)**2), -np.inf, i)[0]) for i in np.linspace(0, 9, 10)]\n",
    "f4 = []\n",
    "for i in f2:\n",
    "    f4.append(i)\n",
    "    f4.append(i)\n",
    "\n",
    "z = np.subtract(f4, f3)\n",
    "z = np.abs(z)\n",
    "delta_mark = 10*np.max(z)\n",
    "\n",
    "for i in range(0, N):\n",
    "    xi = X(theta1, theta2)\n",
    "    \n",
    "    f1 = [0]\n",
    "    for i in xi:\n",
    "        f1.append(f1[-1] + i/100)\n",
    "    f3 = [0]\n",
    "    for i in f1[1:-1]:\n",
    "        f3.append(i)\n",
    "        f3.append(i)\n",
    "    f3.append(1)\n",
    "    x1 = np.linspace(0, 9, 10)\n",
    "    x2 = []\n",
    "    for i in x1:\n",
    "        x2.append(i)\n",
    "        x2.append(i)\n",
    "    \n",
    "    th1 = th2 = 0\n",
    "    for i in range(0, 10):\n",
    "        th1 += 1/100 * i * xi[i]\n",
    "        th2 += 1/100 * i*i * xi[i]\n",
    "    th2 = (th2 - th1**2)**0.5\n",
    "    f2 = [1/(th2 * (2* np.pi)**0.5) * (integrate.quad(lambda x: np.exp(-0.5*((x-th1)/th2)**2), -np.inf, i)[0]) for i in np.linspace(0, 9, 10)]\n",
    "    f4 = []\n",
    "    for i in f2:\n",
    "        f4.append(i)\n",
    "        f4.append(i)\n",
    "\n",
    "    z = np.subtract(f4, f3)\n",
    "    z = np.abs(z)\n",
    "    delta.append(10*np.max(z))\n",
    "delta.sort()\n",
    "\n",
    "for i in range(0, 10000):\n",
    "    if delta[i] > delta_mark:\n",
    "        print(\"p-value = \" ,1 - (i-1)/N)\n",
    "        break\n",
    "    "
   ]
  },
  {
   "cell_type": "markdown",
   "metadata": {},
   "source": [
    "# Распределение дельт при помощи ОММ и Bootstrap"
   ]
  },
  {
   "cell_type": "code",
   "execution_count": 9,
   "metadata": {},
   "outputs": [],
   "source": [
    "N = 50000\n",
    "\n",
    "theta1 = theta2 = 0\n",
    "for i in range(0, 10):\n",
    "    theta1 += 1/100 * i * x[i]\n",
    "    theta2 += 1/100 * i*i * x[i]\n",
    "theta2 = (theta2 - theta1**2)**0.5\n",
    "\n",
    "delta = []\n",
    "\n",
    "for i in range(0, N):\n",
    "    xi = X(theta1, theta2)\n",
    "    \n",
    "    th1 = th2 = 0\n",
    "    for i in range(0, 10):\n",
    "        th1 += 1/100 * i * xi[i]\n",
    "        th2 += 1/100 * i*i * xi[i]\n",
    "    th2 = (th2 - th1**2)**0.5\n",
    "    \n",
    "    p = params(th1, th2)\n",
    "    \n",
    "    smth = 0\n",
    "    for j in range(0, len(xi)):\n",
    "        smth += (xi[j] - p[j]*100)**2/p[j]/100\n",
    "    \n",
    "    delta.append(smth)\n",
    "delta.sort()"
   ]
  },
  {
   "cell_type": "code",
   "execution_count": 12,
   "metadata": {},
   "outputs": [
    {
     "data": {
      "text/plain": [
       "<matplotlib.legend.Legend at 0x1bdf4ec9f40>"
      ]
     },
     "execution_count": 12,
     "metadata": {},
     "output_type": "execute_result"
    },
    {
     "data": {
      "image/png": "[encoded data removed]",
      "text/plain": [
       "<Figure size 864x576 with 1 Axes>"
      ]
     },
     "metadata": {
      "needs_background": "light"
     },
     "output_type": "display_data"
    }
   ],
   "source": [
    "G  = np.linspace(0, 20, 100)\n",
    "hi7 = [integrate.quad(lambda x: (2 * np.pi)**-0.5 / 15 * x**2.5 * np.exp(-0.5*x), 0, i)[0] for i in G]\n",
    "hi9 = [integrate.quad(lambda x: (2 * np.pi)**-0.5 / 105 * x**3.5 * np.exp(-0.5*x), 0, i)[0] for i in G]\n",
    "de = []\n",
    "for i in G:\n",
    "    j = 0\n",
    "    while j < N and delta[j] < i:\n",
    "        j += 1\n",
    "    de.append(j/N)\n",
    "pyplot.figure(figsize=(12, 8))\n",
    "pyplot.plot(G, hi7, label = \"Hi7\")\n",
    "pyplot.plot(G, hi9, label = \"Hi9\")\n",
    "pyplot.plot(G, de, label = \"Delta\")\n",
    "pyplot.legend()\n",
    "\n"
   ]
  },
  {
   "cell_type": "code",
   "execution_count": null,
   "metadata": {},
   "outputs": [],
   "source": []
  }
 ],
 "metadata": {
  "kernelspec": {
   "display_name": "Python 3",
   "language": "python",
   "name": "python3"
  },
  "language_info": {
   "codemirror_mode": {
    "name": "ipython",
    "version": 3
   },
   "file_extension": ".py",
   "mimetype": "text/x-python",
   "name": "python",
   "nbconvert_exporter": "python",
   "pygments_lexer": "ipython3",
   "version": "3.9.0"
  }
 },
 "nbformat": 4,
 "nbformat_minor": 4
}
